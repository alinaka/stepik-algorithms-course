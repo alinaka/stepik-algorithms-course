{
 "cells": [
  {
   "cell_type": "markdown",
   "metadata": {},
   "source": [
    "# небольшое число Фибоначчи\n",
    "[Условия](https://stepik.org/lesson/13228/step/6?unit=3414)"
   ]
  },
  {
   "cell_type": "code",
   "execution_count": 50,
   "metadata": {},
   "outputs": [
    {
     "name": "stdout",
     "output_type": "stream",
     "text": [
      "158\n",
      "468340976726457153752543329995929\n"
     ]
    }
   ],
   "source": [
    "def fib(n):\n",
    "    numbers = [0, 1]\n",
    "    if n > 1:\n",
    "        for i in range(2, n + 1):\n",
    "            numbers.append(numbers[i - 1] + numbers[i - 2])\n",
    "    return numbers[n]\n",
    "\n",
    "n = int(input())\n",
    "\n",
    "print(fib(n))"
   ]
  },
  {
   "cell_type": "markdown",
   "metadata": {},
   "source": [
    "# последняя цифра большого числа Фибоначчи\n",
    "[Условия](https://stepik.org/lesson/13228/step/7?unit=3414)"
   ]
  },
  {
   "cell_type": "code",
   "execution_count": 51,
   "metadata": {},
   "outputs": [
    {
     "name": "stdout",
     "output_type": "stream",
     "text": [
      "374555\n",
      "5\n"
     ]
    }
   ],
   "source": [
    "def fib_digit(n):\n",
    "    a = 0\n",
    "    b = 1\n",
    "    for _ in range(1, n):         \n",
    "        a, b = b, (a + b)%10\n",
    "    return b \n",
    "            \n",
    "n = int(input())\n",
    "\n",
    "print(fib_digit(n))"
   ]
  },
  {
   "cell_type": "markdown",
   "metadata": {},
   "source": [
    "# огромное число Фибоначчи по модулю\n",
    "[Условия](https://stepik.org/lesson/13228/step/8?unit=3414)"
   ]
  },
  {
   "cell_type": "code",
   "execution_count": 3,
   "metadata": {},
   "outputs": [
    {
     "name": "stdout",
     "output_type": "stream",
     "text": [
      "10 1\n",
      "0\n"
     ]
    }
   ],
   "source": [
    "def fib_mod(n, m):\n",
    "    pisano = []\n",
    "    pisano.append(0)\n",
    "\n",
    "    # при делении на 1 остаток будет всегда 0\n",
    "    if m == 1:\n",
    "        return pisano\n",
    "    pisano.append(1)\n",
    "    # при m > 0 остатки от деления первого и второго числа Фибоначчи\n",
    "    # всегда 0 и 1\n",
    "    if n <= 1:\n",
    "        return pisano\n",
    "    n0 = 0\n",
    "    n1 = 1\n",
    "    for __ in range(m * 6):\n",
    "        # для ускорения вычисляем полностью числа Фибоначчи\n",
    "        # берём только остатки по модулю m\n",
    "        n0, n1 = n1, (n0 + n1) % m\n",
    "\n",
    "        pisano.append(n1 % m)\n",
    "        \n",
    "        # Проверяем не начался ли новый период \n",
    "        # период всегда начинается с 0 и 1\n",
    "        if pisano[len(pisano) - 1] == 1 \\\n",
    "            and pisano[len(pisano) - 2] == 0:\n",
    "            break\n",
    "    return pisano[:-2]\n",
    "n, m = map(int, input().split())\n",
    "pisano = fib_mod(n, m)\n",
    "print(pisano[n % len(pisano)])"
   ]
  },
  {
   "cell_type": "code",
   "execution_count": null,
   "metadata": {},
   "outputs": [],
   "source": []
  }
 ],
 "metadata": {
  "kernelspec": {
   "display_name": "Python 3",
   "language": "python",
   "name": "python3"
  },
  "language_info": {
   "codemirror_mode": {
    "name": "ipython",
    "version": 3
   },
   "file_extension": ".py",
   "mimetype": "text/x-python",
   "name": "python",
   "nbconvert_exporter": "python",
   "pygments_lexer": "ipython3",
   "version": "3.6.7"
  }
 },
 "nbformat": 4,
 "nbformat_minor": 2
}
